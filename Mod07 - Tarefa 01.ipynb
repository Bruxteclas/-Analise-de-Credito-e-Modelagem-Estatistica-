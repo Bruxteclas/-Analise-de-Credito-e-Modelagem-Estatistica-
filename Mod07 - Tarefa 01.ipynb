{
 "cells": [
  {
   "cell_type": "markdown",
   "metadata": {},
   "source": [
    "# Módulo 07, Tarefa 01\n",
    "\n",
    "Vamos começar a mexer na nossa base de projeto? Já fizemos um exercício de montar a variável resposta, já pudemos perceber que essa atividade pode não ser trivial. Vamos agora trabalhar a base para que fique propícia ao *scikitlearn* para trabalharmos.\n",
    "\n",
    "Lembrando, a base se chama demo01.csv, e originalmente está publicada [aqui](https://www.kaggle.com/rikdifos/credit-card-approval-prediction)."
   ]
  },
  {
   "cell_type": "markdown",
   "metadata": {},
   "source": [
    "#### 1) Carregue a base e avalie:\n",
    "\n",
    "- As variáveis\n",
    "- Tipos de dados de cada variável\n",
    "- Quantidade de missings\n",
    "- Distribuição da variável resposta (mau)"
   ]
  },
  {
   "cell_type": "markdown",
   "metadata": {},
   "source": [
    "1. Carregando a Base de Dados:"
   ]
  },
  {
   "cell_type": "code",
   "execution_count": 1,
   "metadata": {},
   "outputs": [],
   "source": [
    "import pandas as pd\n",
    "\n",
    "# Carregar a base de dados\n",
    "data = pd.read_csv(\"demo01.csv\")\n"
   ]
  },
  {
   "cell_type": "markdown",
   "metadata": {},
   "source": [
    "Avaliando as Variáveis e Tipos de Dados:"
   ]
  },
  {
   "cell_type": "code",
   "execution_count": 2,
   "metadata": {},
   "outputs": [
    {
     "name": "stdout",
     "output_type": "stream",
     "text": [
      "<class 'pandas.core.frame.DataFrame'>\n",
      "RangeIndex: 16650 entries, 0 to 16649\n",
      "Data columns (total 16 columns):\n",
      " #   Column                 Non-Null Count  Dtype  \n",
      "---  ------                 --------------  -----  \n",
      " 0   sexo                   16650 non-null  object \n",
      " 1   posse_de_veiculo       16650 non-null  object \n",
      " 2   posse_de_imovel        16650 non-null  object \n",
      " 3   qtd_filhos             16650 non-null  int64  \n",
      " 4   tipo_renda             16650 non-null  object \n",
      " 5   educacao               16650 non-null  object \n",
      " 6   estado_civil           16650 non-null  object \n",
      " 7   tipo_residencia        16650 non-null  object \n",
      " 8   idade                  16650 non-null  float64\n",
      " 9   tempo_emprego          16650 non-null  float64\n",
      " 10  possui_celular         16650 non-null  int64  \n",
      " 11  possui_fone_comercial  16650 non-null  int64  \n",
      " 12  possui_fone            16650 non-null  int64  \n",
      " 13  possui_email           16650 non-null  int64  \n",
      " 14  qt_pessoas_residencia  16650 non-null  float64\n",
      " 15  mau                    16650 non-null  bool   \n",
      "dtypes: bool(1), float64(3), int64(5), object(7)\n",
      "memory usage: 1.9+ MB\n",
      "None\n"
     ]
    }
   ],
   "source": [
    "# Exibir informações sobre as variáveis e tipos de dados\n",
    "print(data.info())\n"
   ]
  },
  {
   "cell_type": "markdown",
   "metadata": {},
   "source": [
    "Quantidade de Dados Ausentes:"
   ]
  },
  {
   "cell_type": "code",
   "execution_count": 4,
   "metadata": {},
   "outputs": [
    {
     "name": "stdout",
     "output_type": "stream",
     "text": [
      "sexo                     0\n",
      "posse_de_veiculo         0\n",
      "posse_de_imovel          0\n",
      "qtd_filhos               0\n",
      "tipo_renda               0\n",
      "educacao                 0\n",
      "estado_civil             0\n",
      "tipo_residencia          0\n",
      "idade                    0\n",
      "tempo_emprego            0\n",
      "possui_celular           0\n",
      "possui_fone_comercial    0\n",
      "possui_fone              0\n",
      "possui_email             0\n",
      "qt_pessoas_residencia    0\n",
      "mau                      0\n",
      "dtype: int64\n"
     ]
    }
   ],
   "source": [
    "# Verificar a quantidade de dados ausentes em cada variável\n",
    "missing_data = data.isnull().sum()\n",
    "print(missing_data)\n"
   ]
  },
  {
   "cell_type": "markdown",
   "metadata": {},
   "source": [
    " Distribuição da Variável Resposta \"mau\":"
   ]
  },
  {
   "cell_type": "code",
   "execution_count": 5,
   "metadata": {},
   "outputs": [
    {
     "data": {
      "image/png": "[encoded data removed]",
      "text/plain": [
       "<Figure size 600x400 with 1 Axes>"
      ]
     },
     "metadata": {},
     "output_type": "display_data"
    }
   ],
   "source": [
    "# Visualizar a distribuição da variável \"mau\"\n",
    "import matplotlib.pyplot as plt\n",
    "\n",
    "plt.figure(figsize=(6, 4))\n",
    "data['mau'].value_counts().plot(kind='bar', color='skyblue')\n",
    "plt.title(\"Distribuição da Variável 'mau'\")\n",
    "plt.xlabel(\"mau\")\n",
    "plt.ylabel(\"Contagem\")\n",
    "plt.show()\n"
   ]
  },
  {
   "cell_type": "markdown",
   "metadata": {},
   "source": [
    "#### 2) Vamos montar um metadados\n",
    "\n",
    "1. Crie um dataframe com os nomes de cada variável e o tipo de dados de cada variável.\n",
    "2. Adicione uma coluna nesse *dataframe* chamada \"qtd_categorias\" e coloque nela o número de categorias correspondente de cada variável. \n",
    "    Dica: \n",
    "        1. inicie uma lista vazia\n",
    "        2. faça um for ao longo dos nomes das variáveis, \n",
    "        3. conte o número de categorias dessa variável \n",
    "        4. acumule essa informação de 3. na lista que você criou em 1. \n",
    "        5. No final, essa lista pode ser atribuída à nossa variável.\n",
    "3. Crie variáveis dummy para as variáveis necessárias (i.e. aquelas que são qualitativas e não estão armazenadas como {0, 1} ou {True, False}."
   ]
  },
  {
   "cell_type": "markdown",
   "metadata": {},
   "source": [
    "DataFrame: "
   ]
  },
  {
   "cell_type": "code",
   "execution_count": 20,
   "metadata": {},
   "outputs": [
    {
     "name": "stdout",
     "output_type": "stream",
     "text": [
      "  sexo posse_de_veiculo posse_de_imovel  qtd_filhos            tipo_renda  \\\n",
      "0    M                Y               Y           0               Working   \n",
      "1    F                N               Y           0  Commercial associate   \n",
      "2    F                N               Y           0  Commercial associate   \n",
      "3    M                Y               Y           0               Working   \n",
      "4    F                Y               N           0               Working   \n",
      "\n",
      "                        educacao          estado_civil    tipo_residencia  \\\n",
      "0  Secondary / secondary special               Married  House / apartment   \n",
      "1  Secondary / secondary special  Single / not married  House / apartment   \n",
      "2  Secondary / secondary special  Single / not married  House / apartment   \n",
      "3               Higher education               Married  House / apartment   \n",
      "4              Incomplete higher               Married  House / apartment   \n",
      "\n",
      "       idade  tempo_emprego  possui_celular  possui_fone_comercial  \\\n",
      "0  58.832877       3.106849               1                      0   \n",
      "1  52.356164       8.358904               1                      0   \n",
      "2  52.356164       8.358904               1                      0   \n",
      "3  46.224658       2.106849               1                      1   \n",
      "4  29.230137       3.021918               1                      0   \n",
      "\n",
      "   possui_fone  possui_email  qt_pessoas_residencia    mau  \n",
      "0            0             0                    2.0  False  \n",
      "1            1             1                    1.0  False  \n",
      "2            1             1                    1.0  False  \n",
      "3            1             1                    2.0  False  \n",
      "4            0             0                    2.0  False  \n"
     ]
    }
   ],
   "source": [
    "import pandas as pd\n",
    "\n",
    "# Carregar o arquivo CSV em um DataFrame\n",
    "df_demo01 = pd.read_csv('demo01.csv')\n",
    "\n",
    "# Exibir as primeiras linhas do DataFrame para verificar os dados\n",
    "print(df_demo01.head())\n"
   ]
  },
  {
   "cell_type": "markdown",
   "metadata": {},
   "source": [
    "Adicionar a Coluna 'qtd_categorias':"
   ]
  },
  {
   "cell_type": "code",
   "execution_count": 35,
   "metadata": {},
   "outputs": [
    {
     "name": "stdout",
     "output_type": "stream",
     "text": [
      "['sexo', 'posse_de_veiculo', 'posse_de_imovel', 'tipo_renda', 'educacao', 'estado_civil', 'tipo_residencia']\n"
     ]
    }
   ],
   "source": [
    "# Listar as variáveis qualitativas\n",
    "variaveis_qualitativas = [col for col in df_demo01.columns if df_demo01[col].dtype == 'object']\n",
    "\n",
    "# Exibir as variáveis qualitativas\n",
    "print(variaveis_qualitativas)\n"
   ]
  },
  {
   "cell_type": "code",
   "execution_count": 34,
   "metadata": {},
   "outputs": [
    {
     "name": "stdout",
     "output_type": "stream",
     "text": [
      "                 Variável Tipo de Dados  qtd_categorias\n",
      "0                    sexo        object             2.0\n",
      "1        posse_de_veiculo        object             2.0\n",
      "2         posse_de_imovel        object             2.0\n",
      "3              qtd_filhos         int64             NaN\n",
      "4              tipo_renda        object             5.0\n",
      "5                educacao        object             5.0\n",
      "6            estado_civil        object             5.0\n",
      "7         tipo_residencia        object             6.0\n",
      "8                   idade       float64             NaN\n",
      "9           tempo_emprego       float64             NaN\n",
      "10         possui_celular         int64             NaN\n",
      "11  possui_fone_comercial         int64             NaN\n",
      "12            possui_fone         int64             NaN\n",
      "13           possui_email         int64             NaN\n",
      "14  qt_pessoas_residencia       float64             NaN\n",
      "15                    mau          bool             NaN\n"
     ]
    }
   ],
   "source": [
    "# Inicializar uma lista vazia para armazenar o número de categorias\n",
    "qtd_categorias = []\n",
    "\n",
    "# Calcular o número de categorias para cada variável\n",
    "for col in df_demo01.columns:\n",
    "    num_categorias = len(df_demo01[col].unique()) if df_demo01[col].dtype == 'object' else None\n",
    "    qtd_categorias.append(num_categorias)\n",
    "\n",
    "# Adicionar a coluna \"qtd_categorias\" ao DataFrame de metadados\n",
    "metadados['qtd_categorias'] = qtd_categorias\n",
    "\n",
    "# Exibir o DataFrame de metadados atualizado\n",
    "print(metadados)\n"
   ]
  },
  {
   "cell_type": "code",
   "execution_count": 36,
   "metadata": {},
   "outputs": [
    {
     "name": "stdout",
     "output_type": "stream",
     "text": [
      "       qtd_filhos      idade  tempo_emprego  possui_celular  \\\n",
      "0               0  58.832877       3.106849               1   \n",
      "1               0  52.356164       8.358904               1   \n",
      "2               0  52.356164       8.358904               1   \n",
      "3               0  46.224658       2.106849               1   \n",
      "4               0  29.230137       3.021918               1   \n",
      "...           ...        ...            ...             ...   \n",
      "16645           0  54.109589       9.884932               1   \n",
      "16646           0  43.389041       7.380822               1   \n",
      "16647           0  30.005479       9.800000               1   \n",
      "16648           0  30.005479       9.800000               1   \n",
      "16649           0  33.936986       3.630137               1   \n",
      "\n",
      "       possui_fone_comercial  possui_fone  possui_email  \\\n",
      "0                          0            0             0   \n",
      "1                          0            1             1   \n",
      "2                          0            1             1   \n",
      "3                          1            1             1   \n",
      "4                          0            0             0   \n",
      "...                      ...          ...           ...   \n",
      "16645                      0            0             0   \n",
      "16646                      1            1             0   \n",
      "16647                      1            0             0   \n",
      "16648                      1            0             0   \n",
      "16649                      0            1             1   \n",
      "\n",
      "       qt_pessoas_residencia    mau  sexo_M  ...  \\\n",
      "0                        2.0  False       1  ...   \n",
      "1                        1.0  False       0  ...   \n",
      "2                        1.0  False       0  ...   \n",
      "3                        2.0  False       1  ...   \n",
      "4                        2.0  False       0  ...   \n",
      "...                      ...    ...     ...  ...   \n",
      "16645                    2.0   True       0  ...   \n",
      "16646                    2.0   True       0  ...   \n",
      "16647                    2.0   True       1  ...   \n",
      "16648                    2.0   True       1  ...   \n",
      "16649                    2.0   True       0  ...   \n",
      "\n",
      "       educacao_Secondary / secondary special  estado_civil_Married  \\\n",
      "0                                           1                     1   \n",
      "1                                           1                     0   \n",
      "2                                           1                     0   \n",
      "3                                           0                     1   \n",
      "4                                           0                     1   \n",
      "...                                       ...                   ...   \n",
      "16645                                       1                     0   \n",
      "16646                                       1                     1   \n",
      "16647                                       1                     1   \n",
      "16648                                       1                     1   \n",
      "16649                                       0                     1   \n",
      "\n",
      "       estado_civil_Separated  estado_civil_Single / not married  \\\n",
      "0                           0                                  0   \n",
      "1                           0                                  1   \n",
      "2                           0                                  1   \n",
      "3                           0                                  0   \n",
      "4                           0                                  0   \n",
      "...                       ...                                ...   \n",
      "16645                       0                                  0   \n",
      "16646                       0                                  0   \n",
      "16647                       0                                  0   \n",
      "16648                       0                                  0   \n",
      "16649                       0                                  0   \n",
      "\n",
      "       estado_civil_Widow  tipo_residencia_House / apartment  \\\n",
      "0                       0                                  1   \n",
      "1                       0                                  1   \n",
      "2                       0                                  1   \n",
      "3                       0                                  1   \n",
      "4                       0                                  1   \n",
      "...                   ...                                ...   \n",
      "16645                   0                                  1   \n",
      "16646                   0                                  1   \n",
      "16647                   0                                  1   \n",
      "16648                   0                                  1   \n",
      "16649                   0                                  1   \n",
      "\n",
      "       tipo_residencia_Municipal apartment  tipo_residencia_Office apartment  \\\n",
      "0                                        0                                 0   \n",
      "1                                        0                                 0   \n",
      "2                                        0                                 0   \n",
      "3                                        0                                 0   \n",
      "4                                        0                                 0   \n",
      "...                                    ...                               ...   \n",
      "16645                                    0                                 0   \n",
      "16646                                    0                                 0   \n",
      "16647                                    0                                 0   \n",
      "16648                                    0                                 0   \n",
      "16649                                    0                                 0   \n",
      "\n",
      "       tipo_residencia_Rented apartment  tipo_residencia_With parents  \n",
      "0                                     0                             0  \n",
      "1                                     0                             0  \n",
      "2                                     0                             0  \n",
      "3                                     0                             0  \n",
      "4                                     0                             0  \n",
      "...                                 ...                           ...  \n",
      "16645                                 0                             0  \n",
      "16646                                 0                             0  \n",
      "16647                                 0                             0  \n",
      "16648                                 0                             0  \n",
      "16649                                 0                             0  \n",
      "\n",
      "[16650 rows x 29 columns]\n"
     ]
    }
   ],
   "source": [
    "# Filtrar as variáveis qualitativas relevantes\n",
    "variaveis_qualitativas_relevantes = ['sexo', 'posse_de_veiculo', 'posse_de_imovel', 'tipo_renda', 'educacao', 'estado_civil', 'tipo_residencia']\n",
    "\n",
    "# Criar variáveis dummy para as variáveis qualitativas relevantes\n",
    "df_demo01 = pd.get_dummies(df_demo01, columns=variaveis_qualitativas_relevantes, drop_first=True)\n",
    "\n",
    "# Exibir o DataFrame com as variáveis dummy\n",
    "print(df_demo01)\n",
    "\n"
   ]
  },
  {
   "cell_type": "code",
   "execution_count": 37,
   "metadata": {},
   "outputs": [
    {
     "name": "stdout",
     "output_type": "stream",
     "text": [
      "                 Variável Tipo de Dados  qtd_categorias\n",
      "0                    sexo        object             2.0\n",
      "1        posse_de_veiculo        object             2.0\n",
      "2         posse_de_imovel        object             2.0\n",
      "3              qtd_filhos         int64             NaN\n",
      "4              tipo_renda        object             5.0\n",
      "5                educacao        object             5.0\n",
      "6            estado_civil        object             5.0\n",
      "7         tipo_residencia        object             6.0\n",
      "8                   idade       float64             NaN\n",
      "9           tempo_emprego       float64             NaN\n",
      "10         possui_celular         int64             NaN\n",
      "11  possui_fone_comercial         int64             NaN\n",
      "12            possui_fone         int64             NaN\n",
      "13           possui_email         int64             NaN\n",
      "14  qt_pessoas_residencia       float64             NaN\n",
      "15                    mau          bool             NaN\n"
     ]
    }
   ],
   "source": [
    "# Exibir o DataFrame de metadados atualizado\n",
    "print(metadados)"
   ]
  },
  {
   "cell_type": "code",
   "execution_count": 41,
   "metadata": {},
   "outputs": [
    {
     "name": "stdout",
     "output_type": "stream",
     "text": [
      "       qtd_filhos      idade  tempo_emprego  possui_celular  \\\n",
      "0               0  58.832877       3.106849               1   \n",
      "1               0  52.356164       8.358904               1   \n",
      "2               0  52.356164       8.358904               1   \n",
      "3               0  46.224658       2.106849               1   \n",
      "4               0  29.230137       3.021918               1   \n",
      "...           ...        ...            ...             ...   \n",
      "16645           0  54.109589       9.884932               1   \n",
      "16646           0  43.389041       7.380822               1   \n",
      "16647           0  30.005479       9.800000               1   \n",
      "16648           0  30.005479       9.800000               1   \n",
      "16649           0  33.936986       3.630137               1   \n",
      "\n",
      "       possui_fone_comercial  possui_fone  possui_email  \\\n",
      "0                          0            0             0   \n",
      "1                          0            1             1   \n",
      "2                          0            1             1   \n",
      "3                          1            1             1   \n",
      "4                          0            0             0   \n",
      "...                      ...          ...           ...   \n",
      "16645                      0            0             0   \n",
      "16646                      1            1             0   \n",
      "16647                      1            0             0   \n",
      "16648                      1            0             0   \n",
      "16649                      0            1             1   \n",
      "\n",
      "       qt_pessoas_residencia    mau  sexo_M  ...  \\\n",
      "0                        2.0  False       1  ...   \n",
      "1                        1.0  False       0  ...   \n",
      "2                        1.0  False       0  ...   \n",
      "3                        2.0  False       1  ...   \n",
      "4                        2.0  False       0  ...   \n",
      "...                      ...    ...     ...  ...   \n",
      "16645                    2.0   True       0  ...   \n",
      "16646                    2.0   True       0  ...   \n",
      "16647                    2.0   True       1  ...   \n",
      "16648                    2.0   True       1  ...   \n",
      "16649                    2.0   True       0  ...   \n",
      "\n",
      "       educacao_Secondary / secondary special  estado_civil_Married  \\\n",
      "0                                           1                     1   \n",
      "1                                           1                     0   \n",
      "2                                           1                     0   \n",
      "3                                           0                     1   \n",
      "4                                           0                     1   \n",
      "...                                       ...                   ...   \n",
      "16645                                       1                     0   \n",
      "16646                                       1                     1   \n",
      "16647                                       1                     1   \n",
      "16648                                       1                     1   \n",
      "16649                                       0                     1   \n",
      "\n",
      "       estado_civil_Separated  estado_civil_Single / not married  \\\n",
      "0                           0                                  0   \n",
      "1                           0                                  1   \n",
      "2                           0                                  1   \n",
      "3                           0                                  0   \n",
      "4                           0                                  0   \n",
      "...                       ...                                ...   \n",
      "16645                       0                                  0   \n",
      "16646                       0                                  0   \n",
      "16647                       0                                  0   \n",
      "16648                       0                                  0   \n",
      "16649                       0                                  0   \n",
      "\n",
      "       estado_civil_Widow  tipo_residencia_House / apartment  \\\n",
      "0                       0                                  1   \n",
      "1                       0                                  1   \n",
      "2                       0                                  1   \n",
      "3                       0                                  1   \n",
      "4                       0                                  1   \n",
      "...                   ...                                ...   \n",
      "16645                   0                                  1   \n",
      "16646                   0                                  1   \n",
      "16647                   0                                  1   \n",
      "16648                   0                                  1   \n",
      "16649                   0                                  1   \n",
      "\n",
      "       tipo_residencia_Municipal apartment  tipo_residencia_Office apartment  \\\n",
      "0                                        0                                 0   \n",
      "1                                        0                                 0   \n",
      "2                                        0                                 0   \n",
      "3                                        0                                 0   \n",
      "4                                        0                                 0   \n",
      "...                                    ...                               ...   \n",
      "16645                                    0                                 0   \n",
      "16646                                    0                                 0   \n",
      "16647                                    0                                 0   \n",
      "16648                                    0                                 0   \n",
      "16649                                    0                                 0   \n",
      "\n",
      "       tipo_residencia_Rented apartment  tipo_residencia_With parents  \n",
      "0                                     0                             0  \n",
      "1                                     0                             0  \n",
      "2                                     0                             0  \n",
      "3                                     0                             0  \n",
      "4                                     0                             0  \n",
      "...                                 ...                           ...  \n",
      "16645                                 0                             0  \n",
      "16646                                 0                             0  \n",
      "16647                                 0                             0  \n",
      "16648                                 0                             0  \n",
      "16649                                 0                             0  \n",
      "\n",
      "[16650 rows x 29 columns]\n"
     ]
    }
   ],
   "source": [
    "import pandas as pd\n",
    "\n",
    "# Carregue o DataFrame a partir do arquivo CSV\n",
    "df_demo01 = pd.read_csv('demo01.csv')\n",
    "\n",
    "# Listar as variáveis qualitativas\n",
    "variaveis_qualitativas = df_demo01.select_dtypes(include=['object']).columns\n",
    "\n",
    "# Criar variáveis dummy para as variáveis qualitativas\n",
    "df_demo01 = pd.get_dummies(df_demo01, columns=variaveis_qualitativas, drop_first=True)\n",
    "\n",
    "# Exibir o DataFrame com as variáveis dummy\n",
    "print(df_demo01)\n"
   ]
  },
  {
   "cell_type": "markdown",
   "metadata": {},
   "source": [
    "Dummy"
   ]
  },
  {
   "cell_type": "code",
   "execution_count": 43,
   "metadata": {},
   "outputs": [
    {
     "name": "stdout",
     "output_type": "stream",
     "text": [
      "       qtd_filhos      idade  tempo_emprego  possui_celular  \\\n",
      "0               0  58.832877       3.106849               1   \n",
      "1               0  52.356164       8.358904               1   \n",
      "2               0  52.356164       8.358904               1   \n",
      "3               0  46.224658       2.106849               1   \n",
      "4               0  29.230137       3.021918               1   \n",
      "...           ...        ...            ...             ...   \n",
      "16645           0  54.109589       9.884932               1   \n",
      "16646           0  43.389041       7.380822               1   \n",
      "16647           0  30.005479       9.800000               1   \n",
      "16648           0  30.005479       9.800000               1   \n",
      "16649           0  33.936986       3.630137               1   \n",
      "\n",
      "       possui_fone_comercial  possui_fone  possui_email  \\\n",
      "0                          0            0             0   \n",
      "1                          0            1             1   \n",
      "2                          0            1             1   \n",
      "3                          1            1             1   \n",
      "4                          0            0             0   \n",
      "...                      ...          ...           ...   \n",
      "16645                      0            0             0   \n",
      "16646                      1            1             0   \n",
      "16647                      1            0             0   \n",
      "16648                      1            0             0   \n",
      "16649                      0            1             1   \n",
      "\n",
      "       qt_pessoas_residencia    mau  sexo_M  ...  \\\n",
      "0                        2.0  False       1  ...   \n",
      "1                        1.0  False       0  ...   \n",
      "2                        1.0  False       0  ...   \n",
      "3                        2.0  False       1  ...   \n",
      "4                        2.0  False       0  ...   \n",
      "...                      ...    ...     ...  ...   \n",
      "16645                    2.0   True       0  ...   \n",
      "16646                    2.0   True       0  ...   \n",
      "16647                    2.0   True       1  ...   \n",
      "16648                    2.0   True       1  ...   \n",
      "16649                    2.0   True       0  ...   \n",
      "\n",
      "       educacao_Secondary / secondary special  estado_civil_Married  \\\n",
      "0                                           1                     1   \n",
      "1                                           1                     0   \n",
      "2                                           1                     0   \n",
      "3                                           0                     1   \n",
      "4                                           0                     1   \n",
      "...                                       ...                   ...   \n",
      "16645                                       1                     0   \n",
      "16646                                       1                     1   \n",
      "16647                                       1                     1   \n",
      "16648                                       1                     1   \n",
      "16649                                       0                     1   \n",
      "\n",
      "       estado_civil_Separated  estado_civil_Single / not married  \\\n",
      "0                           0                                  0   \n",
      "1                           0                                  1   \n",
      "2                           0                                  1   \n",
      "3                           0                                  0   \n",
      "4                           0                                  0   \n",
      "...                       ...                                ...   \n",
      "16645                       0                                  0   \n",
      "16646                       0                                  0   \n",
      "16647                       0                                  0   \n",
      "16648                       0                                  0   \n",
      "16649                       0                                  0   \n",
      "\n",
      "       estado_civil_Widow  tipo_residencia_House / apartment  \\\n",
      "0                       0                                  1   \n",
      "1                       0                                  1   \n",
      "2                       0                                  1   \n",
      "3                       0                                  1   \n",
      "4                       0                                  1   \n",
      "...                   ...                                ...   \n",
      "16645                   0                                  1   \n",
      "16646                   0                                  1   \n",
      "16647                   0                                  1   \n",
      "16648                   0                                  1   \n",
      "16649                   0                                  1   \n",
      "\n",
      "       tipo_residencia_Municipal apartment  tipo_residencia_Office apartment  \\\n",
      "0                                        0                                 0   \n",
      "1                                        0                                 0   \n",
      "2                                        0                                 0   \n",
      "3                                        0                                 0   \n",
      "4                                        0                                 0   \n",
      "...                                    ...                               ...   \n",
      "16645                                    0                                 0   \n",
      "16646                                    0                                 0   \n",
      "16647                                    0                                 0   \n",
      "16648                                    0                                 0   \n",
      "16649                                    0                                 0   \n",
      "\n",
      "       tipo_residencia_Rented apartment  tipo_residencia_With parents  \n",
      "0                                     0                             0  \n",
      "1                                     0                             0  \n",
      "2                                     0                             0  \n",
      "3                                     0                             0  \n",
      "4                                     0                             0  \n",
      "...                                 ...                           ...  \n",
      "16645                                 0                             0  \n",
      "16646                                 0                             0  \n",
      "16647                                 0                             0  \n",
      "16648                                 0                             0  \n",
      "16649                                 0                             0  \n",
      "\n",
      "[16650 rows x 29 columns]\n"
     ]
    }
   ],
   "source": [
    "import pandas as pd\n",
    "\n",
    "# Carregue o DataFrame a partir do arquivo CSV\n",
    "df_demo01 = pd.read_csv('demo01.csv')\n",
    "\n",
    "# Listar as variáveis qualitativas\n",
    "variaveis_qualitativas = df_demo01.select_dtypes(include=['object']).columns\n",
    "\n",
    "# Se houver variáveis qualitativas, crie variáveis dummy para elas\n",
    "if len(variaveis_qualitativas) > 0:\n",
    "    df_demo01 = pd.get_dummies(df_demo01, columns=variaveis_qualitativas, drop_first=True)\n",
    "\n",
    "# Exibir o DataFrame com as variáveis dummy (se foram criadas)\n",
    "print(df_demo01)\n",
    "\n"
   ]
  },
  {
   "cell_type": "markdown",
   "metadata": {},
   "source": [
    "#### 3) Crie variáveis dummy para as variáveis necessárias (i.e. aquelas que são qualitativas e não estão armazenadas como {0, 1} ou {True, False}. Crie um *dataframe* apenas com as variáveis apropriadas para entrada no scikitlearn - elimine as variáveis tipo *str*, mantendo apenas suas versões *dummy*."
   ]
  },
  {
   "cell_type": "code",
   "execution_count": 48,
   "metadata": {},
   "outputs": [
    {
     "name": "stdout",
     "output_type": "stream",
     "text": [
      "       qtd_filhos      idade  tempo_emprego  possui_celular  \\\n",
      "0               0  58.832877       3.106849               1   \n",
      "1               0  52.356164       8.358904               1   \n",
      "2               0  52.356164       8.358904               1   \n",
      "3               0  46.224658       2.106849               1   \n",
      "4               0  29.230137       3.021918               1   \n",
      "...           ...        ...            ...             ...   \n",
      "16645           0  54.109589       9.884932               1   \n",
      "16646           0  43.389041       7.380822               1   \n",
      "16647           0  30.005479       9.800000               1   \n",
      "16648           0  30.005479       9.800000               1   \n",
      "16649           0  33.936986       3.630137               1   \n",
      "\n",
      "       possui_fone_comercial  possui_fone  possui_email  \\\n",
      "0                          0            0             0   \n",
      "1                          0            1             1   \n",
      "2                          0            1             1   \n",
      "3                          1            1             1   \n",
      "4                          0            0             0   \n",
      "...                      ...          ...           ...   \n",
      "16645                      0            0             0   \n",
      "16646                      1            1             0   \n",
      "16647                      1            0             0   \n",
      "16648                      1            0             0   \n",
      "16649                      0            1             1   \n",
      "\n",
      "       qt_pessoas_residencia    mau  sexo_M  ...  \\\n",
      "0                        2.0  False       1  ...   \n",
      "1                        1.0  False       0  ...   \n",
      "2                        1.0  False       0  ...   \n",
      "3                        2.0  False       1  ...   \n",
      "4                        2.0  False       0  ...   \n",
      "...                      ...    ...     ...  ...   \n",
      "16645                    2.0   True       0  ...   \n",
      "16646                    2.0   True       0  ...   \n",
      "16647                    2.0   True       1  ...   \n",
      "16648                    2.0   True       1  ...   \n",
      "16649                    2.0   True       0  ...   \n",
      "\n",
      "       educacao_Secondary / secondary special  estado_civil_Married  \\\n",
      "0                                           1                     1   \n",
      "1                                           1                     0   \n",
      "2                                           1                     0   \n",
      "3                                           0                     1   \n",
      "4                                           0                     1   \n",
      "...                                       ...                   ...   \n",
      "16645                                       1                     0   \n",
      "16646                                       1                     1   \n",
      "16647                                       1                     1   \n",
      "16648                                       1                     1   \n",
      "16649                                       0                     1   \n",
      "\n",
      "       estado_civil_Separated  estado_civil_Single / not married  \\\n",
      "0                           0                                  0   \n",
      "1                           0                                  1   \n",
      "2                           0                                  1   \n",
      "3                           0                                  0   \n",
      "4                           0                                  0   \n",
      "...                       ...                                ...   \n",
      "16645                       0                                  0   \n",
      "16646                       0                                  0   \n",
      "16647                       0                                  0   \n",
      "16648                       0                                  0   \n",
      "16649                       0                                  0   \n",
      "\n",
      "       estado_civil_Widow  tipo_residencia_House / apartment  \\\n",
      "0                       0                                  1   \n",
      "1                       0                                  1   \n",
      "2                       0                                  1   \n",
      "3                       0                                  1   \n",
      "4                       0                                  1   \n",
      "...                   ...                                ...   \n",
      "16645                   0                                  1   \n",
      "16646                   0                                  1   \n",
      "16647                   0                                  1   \n",
      "16648                   0                                  1   \n",
      "16649                   0                                  1   \n",
      "\n",
      "       tipo_residencia_Municipal apartment  tipo_residencia_Office apartment  \\\n",
      "0                                        0                                 0   \n",
      "1                                        0                                 0   \n",
      "2                                        0                                 0   \n",
      "3                                        0                                 0   \n",
      "4                                        0                                 0   \n",
      "...                                    ...                               ...   \n",
      "16645                                    0                                 0   \n",
      "16646                                    0                                 0   \n",
      "16647                                    0                                 0   \n",
      "16648                                    0                                 0   \n",
      "16649                                    0                                 0   \n",
      "\n",
      "       tipo_residencia_Rented apartment  tipo_residencia_With parents  \n",
      "0                                     0                             0  \n",
      "1                                     0                             0  \n",
      "2                                     0                             0  \n",
      "3                                     0                             0  \n",
      "4                                     0                             0  \n",
      "...                                 ...                           ...  \n",
      "16645                                 0                             0  \n",
      "16646                                 0                             0  \n",
      "16647                                 0                             0  \n",
      "16648                                 0                             0  \n",
      "16649                                 0                             0  \n",
      "\n",
      "[16650 rows x 29 columns]\n"
     ]
    }
   ],
   "source": [
    "import pandas as pd\n",
    "\n",
    "# Carregue o DataFrame a partir do arquivo CSV\n",
    "df_demo01 = pd.read_csv('demo01.csv')\n",
    "\n",
    "# Liste as variáveis qualitativas\n",
    "variaveis_qualitativas = df_demo01.select_dtypes(include=['object']).columns\n",
    "\n",
    "# Crie variáveis dummy para as variáveis qualitativas\n",
    "df_demo01 = pd.get_dummies(df_demo01, columns=variaveis_qualitativas, drop_first=True)\n",
    "\n",
    "# Crie um novo DataFrame apenas com as variáveis apropriadas para o scikit-learn\n",
    "df_scikit_learn = df_demo01.select_dtypes(exclude=['object'])\n",
    "\n",
    "# Exibir o novo DataFrame pronto para uso no scikit-learn\n",
    "print(df_scikit_learn)\n",
    "\n",
    "\n",
    "\n"
   ]
  },
  {
   "cell_type": "markdown",
   "metadata": {},
   "source": [
    "#### 4) Qual variável é mais poderosa?\n",
    "\n",
    "Considere as variáveis ```possui_email``` e ```posse_de_veiculo```. Faça uma tabela cruzada entre elas e responda qual delas te parece mais poderosa para prever a probabilidade de ```mau = 1```?"
   ]
  },
  {
   "cell_type": "code",
   "execution_count": 50,
   "metadata": {},
   "outputs": [
    {
     "name": "stdout",
     "output_type": "stream",
     "text": [
      "[False  True]\n"
     ]
    }
   ],
   "source": [
    "# Exibir os valores únicos na coluna 'mau'\n",
    "unique_values_mau = df_demo01['mau'].unique()\n",
    "print(unique_values_mau)\n"
   ]
  },
  {
   "cell_type": "code",
   "execution_count": 54,
   "metadata": {},
   "outputs": [
    {
     "name": "stdout",
     "output_type": "stream",
     "text": [
      "Proporções de 'mau = True' para cada categoria de 'possui_email':\n",
      "possui_email\n",
      "0    0.023731\n",
      "1    0.020270\n",
      "Name: mau, dtype: float64\n",
      "\n",
      "Proporções de 'mau = True' para cada categoria de 'posse_de_veiculo':\n",
      "posse_de_veiculo\n",
      "N    0.024268\n",
      "Y    0.022095\n",
      "Name: mau, dtype: float64\n"
     ]
    }
   ],
   "source": [
    "import pandas as pd\n",
    "\n",
    "# Calcular as proporções de 'mau = True' para cada categoria de 'possui_email'\n",
    "prop_email = df_demo01.groupby('possui_email')['mau'].mean()\n",
    "\n",
    "# Calcular as proporções de 'mau = True' para cada categoria de 'posse_de_veiculo'\n",
    "prop_veiculo = df_demo01.groupby('posse_de_veiculo')['mau'].mean()\n",
    "\n",
    "# Exibir as proporções\n",
    "print(\"Proporções de 'mau = True' para cada categoria de 'possui_email':\")\n",
    "print(prop_email)\n",
    "\n",
    "print(\"\\nProporções de 'mau = True' para cada categoria de 'posse_de_veiculo':\")\n",
    "print(prop_veiculo)\n"
   ]
  },
  {
   "cell_type": "markdown",
   "metadata": {},
   "source": [
    "#### 5) Salve a base, pois ela será utilizada no final deste módulo."
   ]
  },
  {
   "cell_type": "code",
   "execution_count": 55,
   "metadata": {},
   "outputs": [],
   "source": [
    "# Salvando o DataFrame em um arquivo CSV\n",
    "df_demo01.to_csv('Projeto_mod07.csv', index=False)\n"
   ]
  },
  {
   "cell_type": "code",
   "execution_count": null,
   "metadata": {},
   "outputs": [],
   "source": []
  }
 ],
 "metadata": {
  "kernelspec": {
   "display_name": "Python 3 (ipykernel)",
   "language": "python",
   "name": "python3"
  },
  "language_info": {
   "codemirror_mode": {
    "name": "ipython",
    "version": 3
   },
   "file_extension": ".py",
   "mimetype": "text/x-python",
   "name": "python",
   "nbconvert_exporter": "python",
   "pygments_lexer": "ipython3",
   "version": "3.11.4"
  }
 },
 "nbformat": 4,
 "nbformat_minor": 4
}
